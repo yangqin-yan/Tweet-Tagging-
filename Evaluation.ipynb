{
 "cells": [
  {
   "cell_type": "code",
   "execution_count": 38,
   "id": "8cbe6421-cc8e-43f3-b8e8-6501612cf519",
   "metadata": {},
   "outputs": [],
   "source": [
    "import pandas as pd"
   ]
  },
  {
   "cell_type": "code",
   "execution_count": 39,
   "id": "e88b5dc2-57f4-4a63-aea6-42593e8e06ee",
   "metadata": {},
   "outputs": [],
   "source": [
    "df = pd.read_csv('tweets.csv')"
   ]
  },
  {
   "cell_type": "code",
   "execution_count": 40,
   "id": "7faad025-ad47-4050-ba16-567feaec5029",
   "metadata": {},
   "outputs": [
    {
     "data": {
      "text/html": [
       "<div>\n",
       "<style scoped>\n",
       "    .dataframe tbody tr th:only-of-type {\n",
       "        vertical-align: middle;\n",
       "    }\n",
       "\n",
       "    .dataframe tbody tr th {\n",
       "        vertical-align: top;\n",
       "    }\n",
       "\n",
       "    .dataframe thead th {\n",
       "        text-align: right;\n",
       "    }\n",
       "</style>\n",
       "<table border=\"1\" class=\"dataframe\">\n",
       "  <thead>\n",
       "    <tr style=\"text-align: right;\">\n",
       "      <th></th>\n",
       "      <th>id</th>\n",
       "      <th>text</th>\n",
       "      <th>author_id</th>\n",
       "      <th>hashtags</th>\n",
       "    </tr>\n",
       "  </thead>\n",
       "  <tbody>\n",
       "    <tr>\n",
       "      <th>0</th>\n",
       "      <td>1502482635268009984</td>\n",
       "      <td>@johnrich I see several each day. Sorry to bur...</td>\n",
       "      <td>1204036111946993664</td>\n",
       "      <td>[]</td>\n",
       "    </tr>\n",
       "    <tr>\n",
       "      <th>1</th>\n",
       "      <td>1502482634655649793</td>\n",
       "      <td>candle light bubble bath ¿ https://t.co/wpi1tq...</td>\n",
       "      <td>1475967654825496583</td>\n",
       "      <td>[]</td>\n",
       "    </tr>\n",
       "    <tr>\n",
       "      <th>2</th>\n",
       "      <td>1502482633866956800</td>\n",
       "      <td>RT @NUESTNEWS: NU'EST The Best Album 'Needle &amp;...</td>\n",
       "      <td>784151839</td>\n",
       "      <td>[NUEST_JR_아론_백호_민현_렌, 뉴이스트]</td>\n",
       "    </tr>\n",
       "    <tr>\n",
       "      <th>3</th>\n",
       "      <td>1502482631002316801</td>\n",
       "      <td>@ellehcar_O2 nag bubble tea ka ba?</td>\n",
       "      <td>2875325584</td>\n",
       "      <td>[]</td>\n",
       "    </tr>\n",
       "    <tr>\n",
       "      <th>4</th>\n",
       "      <td>1502482624522043393</td>\n",
       "      <td>#Hyunlix 💙🤍 saying goodnight on bubble at same...</td>\n",
       "      <td>1488856944186040325</td>\n",
       "      <td>[Hyunlix]</td>\n",
       "    </tr>\n",
       "    <tr>\n",
       "      <th>5</th>\n",
       "      <td>1502482620378402817</td>\n",
       "      <td>RT @Eunhae0404_1510: WAIT Their bubble are nam...</td>\n",
       "      <td>1288766887673749504</td>\n",
       "      <td>[]</td>\n",
       "    </tr>\n",
       "    <tr>\n",
       "      <th>6</th>\n",
       "      <td>1502482620323872769</td>\n",
       "      <td>RT @NUESTNEWS: NU'EST The Best Album 'Needle &amp;...</td>\n",
       "      <td>725681242188840960</td>\n",
       "      <td>[NUEST_JR_아론_백호_민현_렌, 뉴이스트]</td>\n",
       "    </tr>\n",
       "    <tr>\n",
       "      <th>7</th>\n",
       "      <td>1502482613008748545</td>\n",
       "      <td>RT @subhash_kak: Western experts are shocked b...</td>\n",
       "      <td>1079587573</td>\n",
       "      <td>[]</td>\n",
       "    </tr>\n",
       "    <tr>\n",
       "      <th>8</th>\n",
       "      <td>1502482609099755527</td>\n",
       "      <td>RT @soompi: WATCH: #NUEST Revisits Past Hits A...</td>\n",
       "      <td>850850091690848256</td>\n",
       "      <td>[NUEST]</td>\n",
       "    </tr>\n",
       "    <tr>\n",
       "      <th>9</th>\n",
       "      <td>1502482608286224385</td>\n",
       "      <td>RT @NUESTNEWS: NU'EST The Best Album 'Needle &amp;...</td>\n",
       "      <td>1003601807942139904</td>\n",
       "      <td>[NUEST_JR_아론_백호_민현_렌]</td>\n",
       "    </tr>\n",
       "    <tr>\n",
       "      <th>10</th>\n",
       "      <td>1502482607451226112</td>\n",
       "      <td>RT @NUESTNEWS: NU'EST The Best Album 'Needle &amp;...</td>\n",
       "      <td>2842198866</td>\n",
       "      <td>[NUEST_JR_아론_백호_민현_렌, 뉴이스트]</td>\n",
       "    </tr>\n",
       "    <tr>\n",
       "      <th>11</th>\n",
       "      <td>1502482604330987523</td>\n",
       "      <td>RT @NUESTNEWS: NU'EST The Best Album 'Needle &amp;...</td>\n",
       "      <td>202624020</td>\n",
       "      <td>[NUEST_JR_아론_백호_민현_렌, 뉴이스트]</td>\n",
       "    </tr>\n",
       "    <tr>\n",
       "      <th>12</th>\n",
       "      <td>1502482604137730053</td>\n",
       "      <td>The cashier at Lush just gifted me my bubble b...</td>\n",
       "      <td>260927039</td>\n",
       "      <td>[]</td>\n",
       "    </tr>\n",
       "    <tr>\n",
       "      <th>13</th>\n",
       "      <td>1502482596583772162</td>\n",
       "      <td>RT @NUESTNEWS: NU'EST The Best Album 'Needle &amp;...</td>\n",
       "      <td>128824869</td>\n",
       "      <td>[NUEST_JR_아론_백호_민현_렌, 뉴이스트]</td>\n",
       "    </tr>\n",
       "    <tr>\n",
       "      <th>14</th>\n",
       "      <td>1502482587868360704</td>\n",
       "      <td>RT @NUESTNEWS: NU'EST The Best Album 'Needle &amp;...</td>\n",
       "      <td>876042342926385153</td>\n",
       "      <td>[NUEST_JR_아론_백호_민현_렌, 뉴이스트]</td>\n",
       "    </tr>\n",
       "    <tr>\n",
       "      <th>15</th>\n",
       "      <td>1502482586916261888</td>\n",
       "      <td>RT @NUESTNEWS: NU'EST The Best Album 'Needle &amp;...</td>\n",
       "      <td>900123030898089984</td>\n",
       "      <td>[NUEST_JR_아론_백호_민현_렌, 뉴이스트]</td>\n",
       "    </tr>\n",
       "    <tr>\n",
       "      <th>16</th>\n",
       "      <td>1502482586894934019</td>\n",
       "      <td>RT @pledisnews: [기사] #뉴이스트, 'Needle &amp;amp; Bubb...</td>\n",
       "      <td>993355219550420992</td>\n",
       "      <td>[뉴이스트, 플레디스, PLEDIS, NUEST]</td>\n",
       "    </tr>\n",
       "    <tr>\n",
       "      <th>17</th>\n",
       "      <td>1502482586391617541</td>\n",
       "      <td>RT @ivy_uuu: 💖💖\\n\\n#NUEST #뉴이스트 @NUESTNEWS \\n#...</td>\n",
       "      <td>360574548</td>\n",
       "      <td>[NUEST, 뉴이스트, Needle_n_Bubble, NUEST_다시_봄, 다시_...</td>\n",
       "    </tr>\n",
       "    <tr>\n",
       "      <th>18</th>\n",
       "      <td>1502482581681733634</td>\n",
       "      <td>RT @BAEKHO_mp4: NU'EST The Best Album Needle &amp;...</td>\n",
       "      <td>728249218586943492</td>\n",
       "      <td>[백호, 강동호]</td>\n",
       "    </tr>\n",
       "    <tr>\n",
       "      <th>19</th>\n",
       "      <td>1502482580066684930</td>\n",
       "      <td>RT @NUESTNEWS: NU'EST The Best Album 'Needle &amp;...</td>\n",
       "      <td>1068737270318944256</td>\n",
       "      <td>[NUEST_JR_아론_백호_민현_렌, 뉴이스트]</td>\n",
       "    </tr>\n",
       "  </tbody>\n",
       "</table>\n",
       "</div>"
      ],
      "text/plain": [
       "                     id                                               text  \\\n",
       "0   1502482635268009984  @johnrich I see several each day. Sorry to bur...   \n",
       "1   1502482634655649793  candle light bubble bath ¿ https://t.co/wpi1tq...   \n",
       "2   1502482633866956800  RT @NUESTNEWS: NU'EST The Best Album 'Needle &...   \n",
       "3   1502482631002316801                 @ellehcar_O2 nag bubble tea ka ba?   \n",
       "4   1502482624522043393  #Hyunlix 💙🤍 saying goodnight on bubble at same...   \n",
       "5   1502482620378402817  RT @Eunhae0404_1510: WAIT Their bubble are nam...   \n",
       "6   1502482620323872769  RT @NUESTNEWS: NU'EST The Best Album 'Needle &...   \n",
       "7   1502482613008748545  RT @subhash_kak: Western experts are shocked b...   \n",
       "8   1502482609099755527  RT @soompi: WATCH: #NUEST Revisits Past Hits A...   \n",
       "9   1502482608286224385  RT @NUESTNEWS: NU'EST The Best Album 'Needle &...   \n",
       "10  1502482607451226112  RT @NUESTNEWS: NU'EST The Best Album 'Needle &...   \n",
       "11  1502482604330987523  RT @NUESTNEWS: NU'EST The Best Album 'Needle &...   \n",
       "12  1502482604137730053  The cashier at Lush just gifted me my bubble b...   \n",
       "13  1502482596583772162  RT @NUESTNEWS: NU'EST The Best Album 'Needle &...   \n",
       "14  1502482587868360704  RT @NUESTNEWS: NU'EST The Best Album 'Needle &...   \n",
       "15  1502482586916261888  RT @NUESTNEWS: NU'EST The Best Album 'Needle &...   \n",
       "16  1502482586894934019  RT @pledisnews: [기사] #뉴이스트, 'Needle &amp; Bubb...   \n",
       "17  1502482586391617541  RT @ivy_uuu: 💖💖\\n\\n#NUEST #뉴이스트 @NUESTNEWS \\n#...   \n",
       "18  1502482581681733634  RT @BAEKHO_mp4: NU'EST The Best Album Needle &...   \n",
       "19  1502482580066684930  RT @NUESTNEWS: NU'EST The Best Album 'Needle &...   \n",
       "\n",
       "              author_id                                           hashtags  \n",
       "0   1204036111946993664                                                 []  \n",
       "1   1475967654825496583                                                 []  \n",
       "2             784151839                        [NUEST_JR_아론_백호_민현_렌, 뉴이스트]  \n",
       "3            2875325584                                                 []  \n",
       "4   1488856944186040325                                          [Hyunlix]  \n",
       "5   1288766887673749504                                                 []  \n",
       "6    725681242188840960                        [NUEST_JR_아론_백호_민현_렌, 뉴이스트]  \n",
       "7            1079587573                                                 []  \n",
       "8    850850091690848256                                            [NUEST]  \n",
       "9   1003601807942139904                              [NUEST_JR_아론_백호_민현_렌]  \n",
       "10           2842198866                        [NUEST_JR_아론_백호_민현_렌, 뉴이스트]  \n",
       "11            202624020                        [NUEST_JR_아론_백호_민현_렌, 뉴이스트]  \n",
       "12            260927039                                                 []  \n",
       "13            128824869                        [NUEST_JR_아론_백호_민현_렌, 뉴이스트]  \n",
       "14   876042342926385153                        [NUEST_JR_아론_백호_민현_렌, 뉴이스트]  \n",
       "15   900123030898089984                        [NUEST_JR_아론_백호_민현_렌, 뉴이스트]  \n",
       "16   993355219550420992                        [뉴이스트, 플레디스, PLEDIS, NUEST]  \n",
       "17            360574548  [NUEST, 뉴이스트, Needle_n_Bubble, NUEST_다시_봄, 다시_...  \n",
       "18   728249218586943492                                          [백호, 강동호]  \n",
       "19  1068737270318944256                        [NUEST_JR_아론_백호_민현_렌, 뉴이스트]  "
      ]
     },
     "execution_count": 40,
     "metadata": {},
     "output_type": "execute_result"
    }
   ],
   "source": [
    "df.hashtags = df.hashtags.apply(eval)\n",
    "df.head(20)"
   ]
  },
  {
   "cell_type": "code",
   "execution_count": 43,
   "id": "eb5bf7bd-c70a-4337-88d5-066ed8fe4312",
   "metadata": {},
   "outputs": [],
   "source": [
    "from collections import Counter\n"
   ]
  },
  {
   "cell_type": "code",
   "execution_count": 46,
   "id": "74e5a738-da91-4092-ab0f-65d8c1bad3ea",
   "metadata": {},
   "outputs": [
    {
     "data": {
      "text/plain": [
       "[('뉴이스트', 61),\n",
       " ('NUEST_JR_아론_백호_민현_렌', 55),\n",
       " ('AnbaanaFans', 51),\n",
       " ('TREASURE', 40),\n",
       " ('LISA', 39),\n",
       " ('LALISA', 31),\n",
       " ('MONEY', 31),\n",
       " ('ピザハット', 25),\n",
       " ('unsubscribe', 25),\n",
       " ('NFT', 23)]"
      ]
     },
     "metadata": {},
     "output_type": "display_data"
    },
    {
     "data": {
      "text/plain": [
       "4384"
      ]
     },
     "metadata": {},
     "output_type": "display_data"
    }
   ],
   "source": [
    "hashtag_list = []\n",
    "for index, row in df.iterrows():\n",
    "    for item in row[3]:\n",
    "        hashtag_list.append(item)\n",
    "c = Counter(hashtag_list)\n",
    "display(c.most_common(10))\n",
    "display(len(hashtag_list))"
   ]
  },
  {
   "cell_type": "code",
   "execution_count": 111,
   "id": "8e026509-6497-42b6-9390-be9d844c8172",
   "metadata": {},
   "outputs": [],
   "source": [
    "import gensim\n",
    "import numpy as np\n",
    "import random"
   ]
  },
  {
   "cell_type": "code",
   "execution_count": 61,
   "id": "99412de1-4478-4fd0-a366-398c8fa114d4",
   "metadata": {},
   "outputs": [],
   "source": [
    "w2v_mod = gensim.models.KeyedVectors.load_word2vec_format(\"GoogleNews-vectors-negative300-SLIM.bin.gz\", binary=True)"
   ]
  },
  {
   "cell_type": "code",
   "execution_count": 94,
   "id": "369afdd5-f3d9-4016-96ab-dac88276b49f",
   "metadata": {},
   "outputs": [],
   "source": [
    "def cos_sim(predict, actual):\n",
    "    result = 0\n",
    "    for i in range(max(len(predict), len(actual))):\n",
    "        try:\n",
    "            predict_i = w2v_mod[predict[i]]\n",
    "        except:\n",
    "            predict_i = np.zeros(300)\n",
    "        try:\n",
    "            actual_i = w2v_mod[actual[i]]\n",
    "        except:\n",
    "            actual_i = np.zeros(300)\n",
    "        try:\n",
    "            if predict[i] == actual[i]:\n",
    "                result = result + 1\n",
    "            else:\n",
    "                result = result + sum(np.multiply(predict_i, actual_i))\n",
    "        except:\n",
    "            result = result + sum(np.multiply(predict_i, actual_i))\n",
    "    result = result / max(len(predict), len(actual))\n",
    "    return result"
   ]
  },
  {
   "cell_type": "code",
   "execution_count": 67,
   "id": "2a0f1dd4-6997-43aa-a63f-2a02043ce539",
   "metadata": {},
   "outputs": [
    {
     "name": "stdout",
     "output_type": "stream",
     "text": [
      "30\n"
     ]
    }
   ],
   "source": [
    "a = np.array([1,2,3,4])\n",
    "b = np.array([1,2,3,4])\n",
    "print(sum(np.multiply(a,b)))"
   ]
  },
  {
   "cell_type": "code",
   "execution_count": 96,
   "id": "f57fde29-f8d0-42ab-a654-e2f7a128cd73",
   "metadata": {},
   "outputs": [
    {
     "data": {
      "text/plain": [
       "0.5"
      ]
     },
     "execution_count": 96,
     "metadata": {},
     "output_type": "execute_result"
    }
   ],
   "source": [
    "cos_sim(['bus', 'bus'], ['bus'])"
   ]
  },
  {
   "cell_type": "code",
   "execution_count": 102,
   "id": "c731bd18-3999-4494-80ac-de41f53feded",
   "metadata": {},
   "outputs": [],
   "source": [
    "df['cos_sim'] = 0\n",
    "for i in range(len(df.index)):\n",
    "    # display(i, cos_sim(['TREASURE'], df.hashtags.iloc[i]))\n",
    "    # display(df.hashtags.iloc[i])\n",
    "    df.cos_sim.iloc[i] = cos_sim(['TREASURE'], df.hashtags.iloc[i])"
   ]
  },
  {
   "cell_type": "code",
   "execution_count": 105,
   "id": "acc39086-926c-4610-9f13-3979b5439b42",
   "metadata": {},
   "outputs": [
    {
     "data": {
      "text/plain": [
       "0.005834305619895562"
      ]
     },
     "execution_count": 105,
     "metadata": {},
     "output_type": "execute_result"
    }
   ],
   "source": [
    "df.cos_sim.mean()"
   ]
  },
  {
   "cell_type": "code",
   "execution_count": 106,
   "id": "ee90e264-675d-488c-be01-68f9c74495cd",
   "metadata": {},
   "outputs": [],
   "source": [
    "hashtag_set = set(hashtag_list)"
   ]
  },
  {
   "cell_type": "code",
   "execution_count": 113,
   "id": "da69fc20-1256-4d5b-b425-278c78cb3e7b",
   "metadata": {},
   "outputs": [
    {
     "data": {
      "text/plain": [
       "'AzimioMtaaniKisumu'"
      ]
     },
     "execution_count": 113,
     "metadata": {},
     "output_type": "execute_result"
    }
   ],
   "source": [
    "random.choice(list(hashtag_set))"
   ]
  },
  {
   "cell_type": "code",
   "execution_count": 114,
   "id": "1651b8c5-6e96-467f-9d1f-aabfcf121f93",
   "metadata": {},
   "outputs": [
    {
     "name": "stderr",
     "output_type": "stream",
     "text": [
      "C:\\Users\\yangg\\anaconda3\\lib\\site-packages\\pandas\\core\\indexing.py:1732: SettingWithCopyWarning: \n",
      "A value is trying to be set on a copy of a slice from a DataFrame\n",
      "\n",
      "See the caveats in the documentation: https://pandas.pydata.org/pandas-docs/stable/user_guide/indexing.html#returning-a-view-versus-a-copy\n",
      "  self._setitem_single_block(indexer, value, name)\n"
     ]
    }
   ],
   "source": [
    "df['cos_sim_rand'] = 0\n",
    "for i in range(len(df.index)):\n",
    "    df.cos_sim_rand.iloc[i] = cos_sim([random.choice(list(hashtag_set))], df.hashtags.iloc[i])"
   ]
  },
  {
   "cell_type": "code",
   "execution_count": 116,
   "id": "11e81c66-ee79-48f6-857f-85c3281a5bd9",
   "metadata": {},
   "outputs": [
    {
     "data": {
      "text/plain": [
       " 0.000000    11258\n",
       " 1.000000        3\n",
       " 0.073520        1\n",
       "-0.040647        1\n",
       " 0.013048        1\n",
       "             ...  \n",
       " 0.088523        1\n",
       " 0.026807        1\n",
       " 0.015835        1\n",
       "-0.001111        1\n",
       " 0.089449        1\n",
       "Name: cos_sim_rand, Length: 138, dtype: int64"
      ]
     },
     "execution_count": 116,
     "metadata": {},
     "output_type": "execute_result"
    }
   ],
   "source": [
    "df.cos_sim_rand.value_counts()"
   ]
  },
  {
   "cell_type": "code",
   "execution_count": 117,
   "id": "b681140c-41f1-49ad-bddc-ca0fb53d52e6",
   "metadata": {},
   "outputs": [
    {
     "data": {
      "text/plain": [
       "0.0007464175584757106"
      ]
     },
     "execution_count": 117,
     "metadata": {},
     "output_type": "execute_result"
    }
   ],
   "source": [
    "df.cos_sim_rand.mean()"
   ]
  },
  {
   "cell_type": "code",
   "execution_count": 136,
   "id": "91dfc3ea-b382-4f0f-9768-184713887e8f",
   "metadata": {},
   "outputs": [
    {
     "data": {
      "text/html": [
       "<div>\n",
       "<style scoped>\n",
       "    .dataframe tbody tr th:only-of-type {\n",
       "        vertical-align: middle;\n",
       "    }\n",
       "\n",
       "    .dataframe tbody tr th {\n",
       "        vertical-align: top;\n",
       "    }\n",
       "\n",
       "    .dataframe thead th {\n",
       "        text-align: right;\n",
       "    }\n",
       "</style>\n",
       "<table border=\"1\" class=\"dataframe\">\n",
       "  <thead>\n",
       "    <tr style=\"text-align: right;\">\n",
       "      <th></th>\n",
       "      <th>id</th>\n",
       "      <th>text</th>\n",
       "      <th>author_id</th>\n",
       "      <th>hashtags</th>\n",
       "    </tr>\n",
       "  </thead>\n",
       "  <tbody>\n",
       "    <tr>\n",
       "      <th>2</th>\n",
       "      <td>1502482633866956800</td>\n",
       "      <td>RT @NUESTNEWS: NU'EST The Best Album 'Needle &amp;...</td>\n",
       "      <td>784151839</td>\n",
       "      <td>[NUEST_JR_아론_백호_민현_렌, 뉴이스트]</td>\n",
       "    </tr>\n",
       "    <tr>\n",
       "      <th>4</th>\n",
       "      <td>1502482624522043393</td>\n",
       "      <td>#Hyunlix 💙🤍 saying goodnight on bubble at same...</td>\n",
       "      <td>1488856944186040325</td>\n",
       "      <td>[Hyunlix]</td>\n",
       "    </tr>\n",
       "    <tr>\n",
       "      <th>6</th>\n",
       "      <td>1502482620323872769</td>\n",
       "      <td>RT @NUESTNEWS: NU'EST The Best Album 'Needle &amp;...</td>\n",
       "      <td>725681242188840960</td>\n",
       "      <td>[NUEST_JR_아론_백호_민현_렌, 뉴이스트]</td>\n",
       "    </tr>\n",
       "    <tr>\n",
       "      <th>8</th>\n",
       "      <td>1502482609099755527</td>\n",
       "      <td>RT @soompi: WATCH: #NUEST Revisits Past Hits A...</td>\n",
       "      <td>850850091690848256</td>\n",
       "      <td>[NUEST]</td>\n",
       "    </tr>\n",
       "    <tr>\n",
       "      <th>9</th>\n",
       "      <td>1502482608286224385</td>\n",
       "      <td>RT @NUESTNEWS: NU'EST The Best Album 'Needle &amp;...</td>\n",
       "      <td>1003601807942139904</td>\n",
       "      <td>[NUEST_JR_아론_백호_민현_렌]</td>\n",
       "    </tr>\n",
       "  </tbody>\n",
       "</table>\n",
       "</div>"
      ],
      "text/plain": [
       "                    id                                               text  \\\n",
       "2  1502482633866956800  RT @NUESTNEWS: NU'EST The Best Album 'Needle &...   \n",
       "4  1502482624522043393  #Hyunlix 💙🤍 saying goodnight on bubble at same...   \n",
       "6  1502482620323872769  RT @NUESTNEWS: NU'EST The Best Album 'Needle &...   \n",
       "8  1502482609099755527  RT @soompi: WATCH: #NUEST Revisits Past Hits A...   \n",
       "9  1502482608286224385  RT @NUESTNEWS: NU'EST The Best Album 'Needle &...   \n",
       "\n",
       "             author_id                     hashtags  \n",
       "2            784151839  [NUEST_JR_아론_백호_민현_렌, 뉴이스트]  \n",
       "4  1488856944186040325                    [Hyunlix]  \n",
       "6   725681242188840960  [NUEST_JR_아론_백호_민현_렌, 뉴이스트]  \n",
       "8   850850091690848256                      [NUEST]  \n",
       "9  1003601807942139904        [NUEST_JR_아론_백호_민현_렌]  "
      ]
     },
     "execution_count": 136,
     "metadata": {},
     "output_type": "execute_result"
    }
   ],
   "source": [
    "new_df = pd.read_csv('tweets.csv')\n",
    "new_df = new_df[new_df.hashtags != '[]']\n",
    "new_df.hashtags = new_df.hashtags.apply(eval)\n",
    "new_df.head()"
   ]
  },
  {
   "cell_type": "code",
   "execution_count": 137,
   "id": "94bb4058-3878-4849-812d-fff026c4c15a",
   "metadata": {},
   "outputs": [
    {
     "name": "stderr",
     "output_type": "stream",
     "text": [
      "C:\\Users\\yangg\\anaconda3\\lib\\site-packages\\pandas\\core\\indexing.py:1732: SettingWithCopyWarning: \n",
      "A value is trying to be set on a copy of a slice from a DataFrame\n",
      "\n",
      "See the caveats in the documentation: https://pandas.pydata.org/pandas-docs/stable/user_guide/indexing.html#returning-a-view-versus-a-copy\n",
      "  self._setitem_single_block(indexer, value, name)\n"
     ]
    },
    {
     "data": {
      "text/html": [
       "<div>\n",
       "<style scoped>\n",
       "    .dataframe tbody tr th:only-of-type {\n",
       "        vertical-align: middle;\n",
       "    }\n",
       "\n",
       "    .dataframe tbody tr th {\n",
       "        vertical-align: top;\n",
       "    }\n",
       "\n",
       "    .dataframe thead th {\n",
       "        text-align: right;\n",
       "    }\n",
       "</style>\n",
       "<table border=\"1\" class=\"dataframe\">\n",
       "  <thead>\n",
       "    <tr style=\"text-align: right;\">\n",
       "      <th></th>\n",
       "      <th>id</th>\n",
       "      <th>text</th>\n",
       "      <th>author_id</th>\n",
       "      <th>hashtags</th>\n",
       "      <th>cos_sim</th>\n",
       "    </tr>\n",
       "  </thead>\n",
       "  <tbody>\n",
       "    <tr>\n",
       "      <th>2</th>\n",
       "      <td>1502482633866956800</td>\n",
       "      <td>RT @NUESTNEWS: NU'EST The Best Album 'Needle &amp;...</td>\n",
       "      <td>784151839</td>\n",
       "      <td>[NUEST_JR_아론_백호_민현_렌, 뉴이스트]</td>\n",
       "      <td>0.0</td>\n",
       "    </tr>\n",
       "    <tr>\n",
       "      <th>4</th>\n",
       "      <td>1502482624522043393</td>\n",
       "      <td>#Hyunlix 💙🤍 saying goodnight on bubble at same...</td>\n",
       "      <td>1488856944186040325</td>\n",
       "      <td>[Hyunlix]</td>\n",
       "      <td>0.0</td>\n",
       "    </tr>\n",
       "    <tr>\n",
       "      <th>6</th>\n",
       "      <td>1502482620323872769</td>\n",
       "      <td>RT @NUESTNEWS: NU'EST The Best Album 'Needle &amp;...</td>\n",
       "      <td>725681242188840960</td>\n",
       "      <td>[NUEST_JR_아론_백호_민현_렌, 뉴이스트]</td>\n",
       "      <td>0.0</td>\n",
       "    </tr>\n",
       "    <tr>\n",
       "      <th>8</th>\n",
       "      <td>1502482609099755527</td>\n",
       "      <td>RT @soompi: WATCH: #NUEST Revisits Past Hits A...</td>\n",
       "      <td>850850091690848256</td>\n",
       "      <td>[NUEST]</td>\n",
       "      <td>0.0</td>\n",
       "    </tr>\n",
       "    <tr>\n",
       "      <th>9</th>\n",
       "      <td>1502482608286224385</td>\n",
       "      <td>RT @NUESTNEWS: NU'EST The Best Album 'Needle &amp;...</td>\n",
       "      <td>1003601807942139904</td>\n",
       "      <td>[NUEST_JR_아론_백호_민현_렌]</td>\n",
       "      <td>0.0</td>\n",
       "    </tr>\n",
       "  </tbody>\n",
       "</table>\n",
       "</div>"
      ],
      "text/plain": [
       "                    id                                               text  \\\n",
       "2  1502482633866956800  RT @NUESTNEWS: NU'EST The Best Album 'Needle &...   \n",
       "4  1502482624522043393  #Hyunlix 💙🤍 saying goodnight on bubble at same...   \n",
       "6  1502482620323872769  RT @NUESTNEWS: NU'EST The Best Album 'Needle &...   \n",
       "8  1502482609099755527  RT @soompi: WATCH: #NUEST Revisits Past Hits A...   \n",
       "9  1502482608286224385  RT @NUESTNEWS: NU'EST The Best Album 'Needle &...   \n",
       "\n",
       "             author_id                     hashtags  cos_sim  \n",
       "2            784151839  [NUEST_JR_아론_백호_민현_렌, 뉴이스트]      0.0  \n",
       "4  1488856944186040325                    [Hyunlix]      0.0  \n",
       "6   725681242188840960  [NUEST_JR_아론_백호_민현_렌, 뉴이스트]      0.0  \n",
       "8   850850091690848256                      [NUEST]      0.0  \n",
       "9  1003601807942139904        [NUEST_JR_아론_백호_민현_렌]      0.0  "
      ]
     },
     "execution_count": 137,
     "metadata": {},
     "output_type": "execute_result"
    }
   ],
   "source": [
    "new_df['cos_sim'] = 0\n",
    "for i in range(len(new_df.index)):\n",
    "    new_df.cos_sim.iloc[i] = cos_sim(['TREASURE'], new_df.hashtags.iloc[i])\n",
    "new_df.head()"
   ]
  },
  {
   "cell_type": "code",
   "execution_count": 141,
   "id": "6cb71d6a-96e7-4ed3-8fac-f063ec8cc2eb",
   "metadata": {},
   "outputs": [
    {
     "data": {
      "text/plain": [
       "0.035577089967870366"
      ]
     },
     "execution_count": 141,
     "metadata": {},
     "output_type": "execute_result"
    }
   ],
   "source": [
    "new_df.cos_sim.mean()"
   ]
  },
  {
   "cell_type": "code",
   "execution_count": null,
   "id": "5bccf000-a4d7-4f9a-b5b7-fa9d71173c28",
   "metadata": {},
   "outputs": [],
   "source": []
  }
 ],
 "metadata": {
  "kernelspec": {
   "display_name": "Python 3 (ipykernel)",
   "language": "python",
   "name": "python3"
  },
  "language_info": {
   "codemirror_mode": {
    "name": "ipython",
    "version": 3
   },
   "file_extension": ".py",
   "mimetype": "text/x-python",
   "name": "python",
   "nbconvert_exporter": "python",
   "pygments_lexer": "ipython3",
   "version": "3.9.7"
  }
 },
 "nbformat": 4,
 "nbformat_minor": 5
}
